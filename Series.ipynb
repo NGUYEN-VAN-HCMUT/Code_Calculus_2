{
  "nbformat": 4,
  "nbformat_minor": 0,
  "metadata": {
    "colab": {
      "name": "Series.ipynb",
      "provenance": [],
      "authorship_tag": "ABX9TyN5qpl7407Kjcrk7SUChbtB",
      "include_colab_link": true
    },
    "kernelspec": {
      "name": "python3",
      "display_name": "Python 3"
    },
    "language_info": {
      "name": "python"
    }
  },
  "cells": [
    {
      "cell_type": "markdown",
      "metadata": {
        "id": "view-in-github",
        "colab_type": "text"
      },
      "source": [
        "<a href=\"https://colab.research.google.com/github/NGUYEN-VAN-HCMUT/Code_Calculus_2/blob/master/Series.ipynb\" target=\"_parent\"><img src=\"https://colab.research.google.com/assets/colab-badge.svg\" alt=\"Open In Colab\"/></a>"
      ]
    },
    {
      "cell_type": "markdown",
      "metadata": {
        "id": "8g_pDhlh7ZmR"
      },
      "source": [
        "Discuss the convergence/divergence of the following series:\n",
        "$$\n",
        "u_{n}=(\\frac{1}{\\sqrt{2}})^{n}\n",
        "$$"
      ]
    },
    {
      "cell_type": "code",
      "metadata": {
        "colab": {
          "base_uri": "https://localhost:8080/",
          "height": 333
        },
        "id": "zDbtCq4XL6Cd",
        "outputId": "9890b181-8c03-4fa4-dce9-d658c50ee02f"
      },
      "source": [
        "from __future__ import division\n",
        "import numpy as np\n",
        "import matplotlib.pyplot as plt\n",
        "\n",
        "n = np.arange(0,50)\n",
        "s_n=0\n",
        "b=[]\n",
        "\n",
        "for i in n:\n",
        "   \tT_n = (1/np.sqrt(2))**i\n",
        "   \ts_n=s_n+T_n\n",
        "   \tb.append(s_n)\n",
        " \t\n",
        "plt.stem(n,b)\n",
        "plt.grid()\n",
        "plt.xlabel('n')\n",
        "plt.ylabel('S_n')\n",
        "# # # #Comment the following line\n",
        "#plt.savefig('../figs/1.eps')\n",
        "plt.show()\n",
        "\n"
      ],
      "execution_count": 2,
      "outputs": [
        {
          "output_type": "stream",
          "text": [
            "/usr/local/lib/python3.7/dist-packages/ipykernel_launcher.py:14: UserWarning: In Matplotlib 3.3 individual lines on a stem plot will be added as a LineCollection instead of individual lines. This significantly improves the performance of a stem plot. To remove this warning and switch to the new behaviour, set the \"use_line_collection\" keyword argument to True.\n",
            "  \n"
          ],
          "name": "stderr"
        },
        {
          "output_type": "display_data",
          "data": {
            "image/png": "[encoded data removed]",
            "text/plain": [
              "<Figure size 432x288 with 1 Axes>"
            ]
          },
          "metadata": {
            "tags": [],
            "needs_background": "light"
          }
        }
      ]
    },
    {
      "cell_type": "markdown",
      "metadata": {
        "id": "5f55JVmvCuFm"
      },
      "source": [
        "$$\n",
        "u_{n}=\\frac{1}{n}\n",
        "$$"
      ]
    },
    {
      "cell_type": "code",
      "metadata": {
        "colab": {
          "base_uri": "https://localhost:8080/",
          "height": 333
        },
        "id": "q7U9YhVAMdFz",
        "outputId": "d3e5d70b-da04-4935-d209-623dd6a4a62b"
      },
      "source": [
        "from __future__ import division\n",
        "import numpy as np\n",
        "import matplotlib.pyplot as plt\n",
        "\n",
        "n = np.arange(1,100)\n",
        "s_n=0\n",
        "b=[]\n",
        "for i in range(1,100):\n",
        "   \tT_n = 1/i #this function can be changed\n",
        "   \ts_n=s_n+T_n\n",
        "   \tb.append(s_n)\n",
        " \t\n",
        "plt.stem(n,b)\n",
        "plt.grid()\n",
        "plt.xlabel('n')\n",
        "plt.ylabel('S_n')\n",
        "# # # #Comment the following line\n",
        "#plt.savefig('../figs/2.eps')\n",
        "plt.show()\n",
        "\n"
      ],
      "execution_count": 5,
      "outputs": [
        {
          "output_type": "stream",
          "text": [
            "/usr/local/lib/python3.7/dist-packages/ipykernel_launcher.py:13: UserWarning: In Matplotlib 3.3 individual lines on a stem plot will be added as a LineCollection instead of individual lines. This significantly improves the performance of a stem plot. To remove this warning and switch to the new behaviour, set the \"use_line_collection\" keyword argument to True.\n",
            "  del sys.path[0]\n"
          ],
          "name": "stderr"
        },
        {
          "output_type": "display_data",
          "data": {
            "image/png": "[encoded data removed]",
            "text/plain": [
              "<Figure size 432x288 with 1 Axes>"
            ]
          },
          "metadata": {
            "tags": [],
            "needs_background": "light"
          }
        }
      ]
    },
    {
      "cell_type": "markdown",
      "metadata": {
        "id": "K0-05mPY8l8d"
      },
      "source": [
        "$$\n",
        "u_{n}=\\sqrt{n+1}-\\sqrt{n}\n",
        "$$"
      ]
    },
    {
      "cell_type": "code",
      "metadata": {
        "colab": {
          "base_uri": "https://localhost:8080/",
          "height": 333
        },
        "id": "IboCixMNMxRc",
        "outputId": "1cf33ec6-1ed8-4b73-e8ad-a6691952e043"
      },
      "source": [
        "from __future__ import division\n",
        "import numpy as np\n",
        "import matplotlib.pyplot as plt\n",
        "\n",
        "n = np.arange(1,100)\n",
        "s_n=0\n",
        "b=[1]\n",
        "\n",
        "for i in range(1,99):\n",
        "   \tT_n = np.sqrt(i+1)-np.sqrt(i) #this function can be changed\n",
        "   \ts_n=s_n+T_n\n",
        "   \tb.append(s_n)\n",
        "\n",
        "plt.stem(n,b)\n",
        "plt.grid()\n",
        "plt.xlabel('n')\n",
        "plt.ylabel('S_n')\n",
        "# # # #Comment the following line\n",
        "#plt.savefig('../figs/3.eps')\n",
        "plt.show()\n",
        "\n"
      ],
      "execution_count": 4,
      "outputs": [
        {
          "output_type": "stream",
          "text": [
            "/usr/local/lib/python3.7/dist-packages/ipykernel_launcher.py:14: UserWarning: In Matplotlib 3.3 individual lines on a stem plot will be added as a LineCollection instead of individual lines. This significantly improves the performance of a stem plot. To remove this warning and switch to the new behaviour, set the \"use_line_collection\" keyword argument to True.\n",
            "  \n"
          ],
          "name": "stderr"
        },
        {
          "output_type": "display_data",
          "data": {
            "image/png": "[encoded data removed]",
            "text/plain": [
              "<Figure size 432x288 with 1 Axes>"
            ]
          },
          "metadata": {
            "tags": [],
            "needs_background": "light"
          }
        }
      ]
    },
    {
      "cell_type": "markdown",
      "metadata": {
        "id": "-9JxhbwyDF8E"
      },
      "source": [
        "$$\n",
        "u_{n}=\\frac{n}{n+1}\n",
        "$$"
      ]
    },
    {
      "cell_type": "code",
      "metadata": {
        "colab": {
          "base_uri": "https://localhost:8080/",
          "height": 333
        },
        "id": "sPwOksAsM7fY",
        "outputId": "eae46a2b-9493-466b-f07b-b5cdec386d02"
      },
      "source": [
        "from __future__ import division\n",
        "import numpy as np\n",
        "import matplotlib.pyplot as plt\n",
        "\n",
        "n = np.arange(1,100)\n",
        "s_n=0\n",
        "b=[0]\n",
        "\n",
        "for i in range(1,99):\n",
        "   \tT_n = i/(i+1) #this function can be changed\n",
        "   \ts_n=s_n+T_n\n",
        "   \tb.append(s_n)\n",
        "\n",
        "plt.stem(n,b)\n",
        "plt.grid()\n",
        "plt.xlabel('n')\n",
        "plt.ylabel('S_n')\n",
        "# # # #Comment the following line\n",
        "#plt.savefig('../figs/4.eps')\n",
        "plt.show()\n",
        "\n"
      ],
      "execution_count": 6,
      "outputs": [
        {
          "output_type": "stream",
          "text": [
            "/usr/local/lib/python3.7/dist-packages/ipykernel_launcher.py:14: UserWarning: In Matplotlib 3.3 individual lines on a stem plot will be added as a LineCollection instead of individual lines. This significantly improves the performance of a stem plot. To remove this warning and switch to the new behaviour, set the \"use_line_collection\" keyword argument to True.\n",
            "  \n"
          ],
          "name": "stderr"
        },
        {
          "output_type": "display_data",
          "data": {
            "image/png": "[encoded data removed]",
            "text/plain": [
              "<Figure size 432x288 with 1 Axes>"
            ]
          },
          "metadata": {
            "tags": [],
            "needs_background": "light"
          }
        }
      ]
    },
    {
      "cell_type": "markdown",
      "metadata": {
        "id": "kh9C4tYRDX5_"
      },
      "source": [
        "$$\n",
        "u_{n}=\\frac{2^n-1}{3^n}\n",
        "$$"
      ]
    },
    {
      "cell_type": "code",
      "metadata": {
        "colab": {
          "base_uri": "https://localhost:8080/",
          "height": 333
        },
        "id": "M_0haH9ZNEFW",
        "outputId": "00dd6406-f0ba-4f9b-ecd3-9ea7c25cc780"
      },
      "source": [
        "from __future__ import division\n",
        "import numpy as np\n",
        "import matplotlib.pyplot as plt\n",
        "\n",
        "n = np.arange(0,50)\n",
        "s_n=0\n",
        "b=[]\n",
        "\n",
        "for i in n:\n",
        "   \tT_n=(2/3)**i-(1/3)**i\n",
        "   \ts_n=s_n+T_n\n",
        "   \tb.append(s_n)\n",
        "plt.stem(n,b)\n",
        "plt.grid()\n",
        "plt.xlabel('n')\n",
        "plt.ylabel('S_n')\n",
        "# # # #Comment the following line\n",
        "#plt.savefig('../figs/5.eps')\n",
        "plt.show()\n",
        "\n"
      ],
      "execution_count": 7,
      "outputs": [
        {
          "output_type": "stream",
          "text": [
            "/usr/local/lib/python3.7/dist-packages/ipykernel_launcher.py:13: UserWarning: In Matplotlib 3.3 individual lines on a stem plot will be added as a LineCollection instead of individual lines. This significantly improves the performance of a stem plot. To remove this warning and switch to the new behaviour, set the \"use_line_collection\" keyword argument to True.\n",
            "  del sys.path[0]\n"
          ],
          "name": "stderr"
        },
        {
          "output_type": "display_data",
          "data": {
            "image/png": "[encoded data removed]",
            "text/plain": [
              "<Figure size 432x288 with 1 Axes>"
            ]
          },
          "metadata": {
            "tags": [],
            "needs_background": "light"
          }
        }
      ]
    },
    {
      "cell_type": "markdown",
      "metadata": {
        "id": "RNjOdbHJ-hP_"
      },
      "source": [
        "$$\n",
        "u_{n}=\\frac{1}{n\\sqrt{n+1}}\n",
        "$$"
      ]
    },
    {
      "cell_type": "code",
      "metadata": {
        "colab": {
          "base_uri": "https://localhost:8080/",
          "height": 384
        },
        "id": "juTyXBTF9eVC",
        "outputId": "e37af565-fc0c-4b52-dbf4-e05d04c10edb"
      },
      "source": [
        "from __future__ import division\n",
        "import numpy as np\n",
        "import matplotlib.pyplot as plt\n",
        "\n",
        "n = np.arange(1,10001)\n",
        "s_n=0\n",
        "b=[0]\n",
        "#print(n)\n",
        "for i in range(1,10000):\n",
        "   \tT_n = 1/(i*np.sqrt(i+1)) #this function can be changed\n",
        "   \ts_n=s_n+T_n\n",
        "   \tb.append(s_n)\n",
        "\n",
        "print(s_n) \t\n",
        "\n",
        "plt.stem(n[1:100:25],b[1:100:25])\n",
        "plt.stem(n[100:1000:100],b[100:1000:100])\n",
        "plt.stem(n[1000:5000:500],b[1000:5000:500])\n",
        "plt.grid()\n",
        "plt.xlabel('n')\n",
        "plt.ylabel('S_n')\n",
        "# # # #Comment the following line\n",
        "#plt.savefig('../figs/6.eps')\n",
        "plt.show()\n",
        "\n"
      ],
      "execution_count": 1,
      "outputs": [
        {
          "output_type": "stream",
          "text": [
            "2.1640093035986867\n"
          ],
          "name": "stdout"
        },
        {
          "output_type": "stream",
          "text": [
            "/usr/local/lib/python3.7/dist-packages/ipykernel_launcher.py:16: UserWarning: In Matplotlib 3.3 individual lines on a stem plot will be added as a LineCollection instead of individual lines. This significantly improves the performance of a stem plot. To remove this warning and switch to the new behaviour, set the \"use_line_collection\" keyword argument to True.\n",
            "  app.launch_new_instance()\n",
            "/usr/local/lib/python3.7/dist-packages/ipykernel_launcher.py:17: UserWarning: In Matplotlib 3.3 individual lines on a stem plot will be added as a LineCollection instead of individual lines. This significantly improves the performance of a stem plot. To remove this warning and switch to the new behaviour, set the \"use_line_collection\" keyword argument to True.\n",
            "/usr/local/lib/python3.7/dist-packages/ipykernel_launcher.py:18: UserWarning: In Matplotlib 3.3 individual lines on a stem plot will be added as a LineCollection instead of individual lines. This significantly improves the performance of a stem plot. To remove this warning and switch to the new behaviour, set the \"use_line_collection\" keyword argument to True.\n"
          ],
          "name": "stderr"
        },
        {
          "output_type": "display_data",
          "data": {
            "image/png": "[encoded data removed]",
            "text/plain": [
              "<Figure size 432x288 with 1 Axes>"
            ]
          },
          "metadata": {
            "tags": [],
            "needs_background": "light"
          }
        }
      ]
    },
    {
      "cell_type": "markdown",
      "metadata": {
        "id": "QvvWpAy_9_iZ"
      },
      "source": [
        "$$\n",
        "u_{n}=\\frac{\\cos n\\pi}{\\sqrt{n}}\n",
        "$$"
      ]
    },
    {
      "cell_type": "code",
      "metadata": {
        "colab": {
          "base_uri": "https://localhost:8080/",
          "height": 350
        },
        "id": "mvE2qaHL9lGD",
        "outputId": "c67662d1-fdde-42f3-c788-8de3630178cd"
      },
      "source": [
        "from __future__ import division\n",
        "import numpy as np\n",
        "import matplotlib.pyplot as plt\n",
        "\n",
        "k=np.pi\n",
        "n = np.arange(1,200)\n",
        "s_n=0\n",
        "b=[]\n",
        "for i in range(1,200):\n",
        "   \tT_n = np.cos(k*i)/np.sqrt(i) #this function can be changed\n",
        "   \ts_n=s_n+T_n\n",
        "   \tb.append(s_n)\n",
        "print(s_n)\n",
        "plt.stem(n,b)\n",
        "plt.grid()\n",
        "plt.xlabel('n')\n",
        "plt.ylabel('S_n')\n",
        "# # # #Comment the following line\n",
        "#plt.savefig('../figs/7.eps')\n",
        "plt.show()\n",
        "\n"
      ],
      "execution_count": 2,
      "outputs": [
        {
          "output_type": "stream",
          "text": [
            "-0.6402981763095283\n"
          ],
          "name": "stdout"
        },
        {
          "output_type": "stream",
          "text": [
            "/usr/local/lib/python3.7/dist-packages/ipykernel_launcher.py:14: UserWarning: In Matplotlib 3.3 individual lines on a stem plot will be added as a LineCollection instead of individual lines. This significantly improves the performance of a stem plot. To remove this warning and switch to the new behaviour, set the \"use_line_collection\" keyword argument to True.\n",
            "  \n"
          ],
          "name": "stderr"
        },
        {
          "output_type": "display_data",
          "data": {
            "image/png": "[encoded data removed]",
            "text/plain": [
              "<Figure size 432x288 with 1 Axes>"
            ]
          },
          "metadata": {
            "tags": [],
            "needs_background": "light"
          }
        }
      ]
    },
    {
      "cell_type": "markdown",
      "metadata": {
        "id": "GlqYvl_q_wgR"
      },
      "source": [
        "$$\n",
        "u_{n}=\\frac{1}{\\sqrt{n}}\n",
        "$$"
      ]
    },
    {
      "cell_type": "code",
      "metadata": {
        "colab": {
          "base_uri": "https://localhost:8080/",
          "height": 350
        },
        "id": "17SeUcBX9uGp",
        "outputId": "29ee8fcb-f4c8-4cf9-f0f5-e9e97a28ad7b"
      },
      "source": [
        "from __future__ import division\n",
        "import numpy as np\n",
        "import matplotlib.pyplot as plt\n",
        "\n",
        "k=np.pi\n",
        "n = np.arange(1,100)\n",
        "s_n=0\n",
        "b=[]\n",
        "for i in range(1,100):\n",
        "   \tT_n = 1/np.sqrt(i) #this function can be changed\n",
        "   \ts_n=s_n+T_n\n",
        "   \tb.append(s_n)\n",
        "print(s_n)\n",
        "plt.stem(n,b)\n",
        "plt.grid()\n",
        "plt.xlabel('n')\n",
        "plt.ylabel('S_n')\n",
        "# # # #Comment the following line\n",
        "#plt.savefig('../figs/8.eps')\n",
        "plt.show()\n",
        "\n"
      ],
      "execution_count": 4,
      "outputs": [
        {
          "output_type": "stream",
          "text": [
            "18.489603824784147\n"
          ],
          "name": "stdout"
        },
        {
          "output_type": "stream",
          "text": [
            "/usr/local/lib/python3.7/dist-packages/ipykernel_launcher.py:14: UserWarning: In Matplotlib 3.3 individual lines on a stem plot will be added as a LineCollection instead of individual lines. This significantly improves the performance of a stem plot. To remove this warning and switch to the new behaviour, set the \"use_line_collection\" keyword argument to True.\n",
            "  \n"
          ],
          "name": "stderr"
        },
        {
          "output_type": "display_data",
          "data": {
            "image/png": "[encoded data removed]",
            "text/plain": [
              "<Figure size 432x288 with 1 Axes>"
            ]
          },
          "metadata": {
            "tags": [],
            "needs_background": "light"
          }
        }
      ]
    },
    {
      "cell_type": "code",
      "metadata": {
        "colab": {
          "base_uri": "https://localhost:8080/",
          "height": 279
        },
        "id": "0XcgviDxyGQO",
        "outputId": "b910b163-f486-450f-dae8-49fb543aea69"
      },
      "source": [
        "import numpy as np\n",
        "import matplotlib.pyplot as plt\n",
        "\n",
        "n = np.linspace(0,1e3,100)\n",
        "x_n = np.sqrt(n+1) - 1\n",
        "plt.plot(n,x_n)\n",
        "plt.grid()\n",
        "plt.xlabel('n')\n",
        "plt.ylabel('x_n')\n",
        "#Comment the following line\n",
        "#plt.savefig('../figs/seq_diverge.eps')\n",
        "plt.show()"
      ],
      "execution_count": 1,
      "outputs": [
        {
          "output_type": "display_data",
          "data": {
            "image/png": "[encoded data removed]",
            "text/plain": [
              "<Figure size 432x288 with 1 Axes>"
            ]
          },
          "metadata": {
            "tags": [],
            "needs_background": "light"
          }
        }
      ]
    },
    {
      "cell_type": "code",
      "metadata": {
        "colab": {
          "base_uri": "https://localhost:8080/",
          "height": 279
        },
        "id": "57s6uAS4yS7c",
        "outputId": "1eb901ed-af35-447d-9335-5c930c5c2cee"
      },
      "source": [
        "import numpy as np\n",
        "import matplotlib.pyplot as plt\n",
        "\n",
        "x = []\n",
        "temp = 1\n",
        "for i in range(100):\n",
        "    x.append(temp)\n",
        "    temp = (temp+1.0)/3.0\n",
        " \n",
        "plt.plot(range(100),x)\n",
        "plt.grid()\n",
        "plt.xlabel('n')\n",
        "plt.ylabel('x_n')\n",
        "#Comment the following line\n",
        "#plt.savefig('../figs/seq_monotone.eps')\n",
        "plt.show()"
      ],
      "execution_count": 2,
      "outputs": [
        {
          "output_type": "display_data",
          "data": {
            "image/png": "[encoded data removed]",
            "text/plain": [
              "<Figure size 432x288 with 1 Axes>"
            ]
          },
          "metadata": {
            "tags": [],
            "needs_background": "light"
          }
        }
      ]
    }
  ]
}